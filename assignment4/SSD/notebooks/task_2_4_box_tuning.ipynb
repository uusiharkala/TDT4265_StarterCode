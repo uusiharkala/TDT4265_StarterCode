{
 "cells": [
  {
   "cell_type": "code",
   "execution_count": 1,
   "id": "3e618731",
   "metadata": {},
   "outputs": [],
   "source": [
    "from math import sqrt\n",
    "import numpy as np\n",
    "import matplotlib.pyplot as plt"
   ]
  },
  {
   "cell_type": "code",
   "execution_count": 2,
   "id": "394550a5",
   "metadata": {},
   "outputs": [],
   "source": [
    "# Anchor boxes as defined in configs/test_anchors/base.py\n",
    "\n",
    "feature_sizes=[[32, 256], [16, 128], [8, 64], [4, 32], [2, 16], [1, 8]]\n",
    "# Strides is the number of pixels (in image space) between each spatial position in the feature map\n",
    "strides=[[4, 4], [8, 8], [16, 16], [32, 32], [64, 64], [128, 128]]\n",
    "min_sizes=[[16, 16], [32, 32], [48, 48], [64, 64], [86, 86], [128, 128], [128, 400]]\n",
    "# Strides is the number of pixels (in image space) between each spatial position in the feature map\n",
    "# aspect ratio is defined per feature map (first index is largest feature map (38x38))\n",
    "# aspect ratio is used to define two boxes per element in the list.\n",
    "# if ratio=[2], boxes will be created with ratio 1:2 and 2:1\n",
    "# Number of boxes per location is in total 2 + 2 per aspect ratio\n",
    "aspect_ratios=[[2], [2, 3], [2, 3], [2, 3], [2], [2]]\n",
    "image_shape = (128, 1024),\n",
    "scale_center_variance=0.1,\n",
    "scale_size_variance=0.2"
   ]
  },
  {
   "cell_type": "code",
   "execution_count": 3,
   "id": "98b4128c",
   "metadata": {},
   "outputs": [],
   "source": [
    "def calculate_boxes(min_size, next_min_size, aspect_ratio):\n",
    "    print(\"min_size: \", min_size)\n",
    "    print(\"next_min_size: \", next_min_size)\n",
    "    print(\"aspect_ratio: \", aspect_ratio)\n",
    "    boxes = []\n",
    "    boxes.append((min_size[0], min_size[0]))\n",
    "    print((min_size[0], min_size[0]))\n",
    "    a = int(sqrt(min_size[0]*next_min_size[0]))\n",
    "    boxes.append((a,a))\n",
    "    print((a,a))\n",
    "    for i, ar in enumerate(aspect_ratio):\n",
    "        a = int(min_size[0]*sqrt(ar))\n",
    "        b = int(min_size[0]/sqrt(ar))\n",
    "        print((a,b))\n",
    "        print((b,a))\n",
    "        boxes.append((a,b))\n",
    "        boxes.append((b,a))\n",
    "    areas = []\n",
    "    aspects = []\n",
    "    for box in boxes:\n",
    "        if box[0] <= 128 and box[1] <= 1024:\n",
    "            areas.append(box[0]*box[1])\n",
    "            aspects.append(box[0]/box[1])\n",
    "    print(\" \")\n",
    "    return (areas, aspects, boxes)\n",
    "\n",
    "def calculate_all_boxes(min_sizes, aspect_ratios):\n",
    "    areas = []\n",
    "    aspects = []\n",
    "    boxes = []\n",
    "    for i in range(6):\n",
    "        min_size = min_sizes[i]\n",
    "        next_min_size = min_sizes[i+1]\n",
    "        aspect_ratio = aspect_ratios[0]\n",
    "        ar, asp, box = calculate_boxes(min_size, next_min_size, aspect_ratio)\n",
    "        areas = areas + ar\n",
    "        aspects = aspects + asp\n",
    "        boxes = boxes + box\n",
    "    return (areas, aspects, boxes)"
   ]
  },
  {
   "cell_type": "code",
   "execution_count": 4,
   "id": "6aab0c3d",
   "metadata": {},
   "outputs": [],
   "source": [
    "def area_hist(areas, title, end=4500):\n",
    "    start = 0\n",
    "    n = 100\n",
    "\n",
    "    bins = np.linspace(start, end, n)\n",
    "\n",
    "    plt.figure(figsize=(8, 6))\n",
    "\n",
    "    plt.hist(areas, bins, alpha=0.5)\n",
    "    plt.ylabel('Frequency',size=17)\n",
    "    plt.title(title, fontdict={\"fontsize\": 20})\n",
    "    plt.yticks(size=14)\n",
    "    plt.tight_layout()\n",
    "    plt.savefig(title.replace(\" \", \"_\") + \".pdf\")\n",
    "\n",
    "def aspect_hist(aspects, title, end=2.5):\n",
    "    start = 0\n",
    "    n = 100\n",
    "\n",
    "    bins = np.linspace(start, end, n)\n",
    "\n",
    "    plt.figure(figsize=(8, 6))\n",
    "\n",
    "    plt.hist(aspects, bins, alpha=0.5)\n",
    "    plt.ylabel('Frequency',size=17)\n",
    "    plt.title(title, fontdict={\"fontsize\": 20})\n",
    "    plt.yticks(size=14)\n",
    "    plt.xticks([0, 0.5, 1, 1.5, 2, 2.5],\n",
    "           ['', '1:2', '1:1', '3:2', '2:1', '5:2'], size=14)\n",
    "    plt.tight_layout()\n",
    "    plt.savefig(title.replace(\" \", \"_\") + \".pdf\")"
   ]
  },
  {
   "cell_type": "code",
   "execution_count": 5,
   "id": "6475a86f",
   "metadata": {},
   "outputs": [
    {
     "name": "stdout",
     "output_type": "stream",
     "text": [
      "min_size:  [16, 16]\n",
      "next_min_size:  [32, 32]\n",
      "aspect_ratio:  [2]\n",
      "(16, 16)\n",
      "(22, 22)\n",
      "(22, 11)\n",
      "(11, 22)\n",
      " \n",
      "min_size:  [32, 32]\n",
      "next_min_size:  [48, 48]\n",
      "aspect_ratio:  [2]\n",
      "(32, 32)\n",
      "(39, 39)\n",
      "(45, 22)\n",
      "(22, 45)\n",
      " \n",
      "min_size:  [48, 48]\n",
      "next_min_size:  [64, 64]\n",
      "aspect_ratio:  [2]\n",
      "(48, 48)\n",
      "(55, 55)\n",
      "(67, 33)\n",
      "(33, 67)\n",
      " \n",
      "min_size:  [64, 64]\n",
      "next_min_size:  [86, 86]\n",
      "aspect_ratio:  [2]\n",
      "(64, 64)\n",
      "(74, 74)\n",
      "(90, 45)\n",
      "(45, 90)\n",
      " \n",
      "min_size:  [86, 86]\n",
      "next_min_size:  [128, 128]\n",
      "aspect_ratio:  [2]\n",
      "(86, 86)\n",
      "(104, 104)\n",
      "(121, 60)\n",
      "(60, 121)\n",
      " \n",
      "min_size:  [128, 128]\n",
      "next_min_size:  [128, 400]\n",
      "aspect_ratio:  [2]\n",
      "(128, 128)\n",
      "(128, 128)\n",
      "(181, 90)\n",
      "(90, 181)\n",
      " \n"
     ]
    },
    {
     "data": {
      "image/png": "[encoded data removed]",
      "text/plain": [
       "<Figure size 576x432 with 1 Axes>"
      ]
     },
     "metadata": {
      "needs_background": "light"
     },
     "output_type": "display_data"
    },
    {
     "data": {
      "image/png": "[encoded data removed]",
      "text/plain": [
       "<Figure size 576x432 with 1 Axes>"
      ]
     },
     "metadata": {
      "needs_background": "light"
     },
     "output_type": "display_data"
    }
   ],
   "source": [
    "# Calculate distribution of box areas and aspect ratios for data in Tasks 2.1-2.3\n",
    "areas, aspects, boxes = calculate_all_boxes(min_sizes, aspect_ratios)\n",
    "area_hist(areas=areas, title=\"Original distribution of prior areas\")\n",
    "aspect_hist(aspects=aspects, title=\"Original distribution of prior aspect ratios\")"
   ]
  },
  {
   "cell_type": "code",
   "execution_count": 6,
   "id": "9ea04a6e",
   "metadata": {},
   "outputs": [
    {
     "name": "stdout",
     "output_type": "stream",
     "text": [
      "min_size:  [8, 8]\n",
      "next_min_size:  [16, 16]\n",
      "aspect_ratio:  [3, 5]\n",
      "(8, 8)\n",
      "(11, 11)\n",
      "(13, 4)\n",
      "(4, 13)\n",
      "(17, 3)\n",
      "(3, 17)\n",
      " \n",
      "min_size:  [16, 16]\n",
      "next_min_size:  [32, 32]\n",
      "aspect_ratio:  [3, 5]\n",
      "(16, 16)\n",
      "(22, 22)\n",
      "(27, 9)\n",
      "(9, 27)\n",
      "(35, 7)\n",
      "(7, 35)\n",
      " \n",
      "min_size:  [32, 32]\n",
      "next_min_size:  [48, 48]\n",
      "aspect_ratio:  [3, 5]\n",
      "(32, 32)\n",
      "(39, 39)\n",
      "(55, 18)\n",
      "(18, 55)\n",
      "(71, 14)\n",
      "(14, 71)\n",
      " \n",
      "min_size:  [48, 48]\n",
      "next_min_size:  [86, 86]\n",
      "aspect_ratio:  [3, 5]\n",
      "(48, 48)\n",
      "(64, 64)\n",
      "(83, 27)\n",
      "(27, 83)\n",
      "(107, 21)\n",
      "(21, 107)\n",
      " \n",
      "min_size:  [86, 86]\n",
      "next_min_size:  [128, 128]\n",
      "aspect_ratio:  [3, 5]\n",
      "(86, 86)\n",
      "(104, 104)\n",
      "(148, 49)\n",
      "(49, 148)\n",
      "(192, 38)\n",
      "(38, 192)\n",
      " \n",
      "min_size:  [128, 128]\n",
      "next_min_size:  [128, 400]\n",
      "aspect_ratio:  [3, 5]\n",
      "(128, 128)\n",
      "(128, 128)\n",
      "(221, 73)\n",
      "(73, 221)\n",
      "(286, 57)\n",
      "(57, 286)\n",
      " \n"
     ]
    },
    {
     "data": {
      "image/png": "[encoded data removed]",
      "text/plain": [
       "<Figure size 576x432 with 1 Axes>"
      ]
     },
     "metadata": {
      "needs_background": "light"
     },
     "output_type": "display_data"
    },
    {
     "data": {
      "image/png": "[encoded data removed]",
      "text/plain": [
       "<Figure size 576x432 with 1 Axes>"
      ]
     },
     "metadata": {
      "needs_background": "light"
     },
     "output_type": "display_data"
    }
   ],
   "source": [
    "# Calculate distribution of box areas and aspect ratios with new boxes\n",
    "\n",
    "# Old ones\n",
    "# min_sizes=[[16, 16], [32, 32], [48, 48], [64, 64], [86, 86], [128, 128], [128, 400]]\n",
    "# aspect_ratios=[[2], [2, 3], [2, 3], [2, 3], [2], [2]]\n",
    "min_sizes=[[8, 8], [16, 16], [32, 32], [48, 48], [86, 86], [128, 128], [128, 400]]\n",
    "aspect_ratios=[[3,5], [3,5], [2,4], [2,4], [2,3], [2,3]]\n",
    "\n",
    "areas, aspects, boxes = calculate_all_boxes(min_sizes, aspect_ratios)\n",
    "area_hist(areas=areas, title=\"Refined distribution of prior areas\")\n",
    "aspect_hist(aspects=aspects, title=\"Refined distribution of prior aspect ratios\")"
   ]
  }
 ],
 "metadata": {
  "kernelspec": {
   "display_name": "Python 3 (ipykernel)",
   "language": "python",
   "name": "python3"
  },
  "language_info": {
   "codemirror_mode": {
    "name": "ipython",
    "version": 3
   },
   "file_extension": ".py",
   "mimetype": "text/x-python",
   "name": "python",
   "nbconvert_exporter": "python",
   "pygments_lexer": "ipython3",
   "version": "3.8.12"
  }
 },
 "nbformat": 4,
 "nbformat_minor": 5
}
